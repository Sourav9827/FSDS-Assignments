{
 "cells": [
  {
   "cell_type": "markdown",
   "id": "f09eeab8",
   "metadata": {},
   "source": [
    "1.\tWrite a Python program to convert kilometers to miles?\n",
    "2.\tWrite a Python program to convert Celsius to Fahrenheit?\n",
    "3.\tWrite a Python program to display calendar?\n",
    "4.\tWrite a Python program to solve quadratic equation?\n",
    "5.\tWrite a Python program to swap two variables without temp variable?"
   ]
  },
  {
   "cell_type": "code",
   "execution_count": 1,
   "id": "7999ac5c",
   "metadata": {},
   "outputs": [
    {
     "name": "stdout",
     "output_type": "stream",
     "text": [
      "Enter value in kilometers: 58\n",
      "58.00 kilometers is equal to 36.04 miles\n"
     ]
    }
   ],
   "source": [
    "#1.\n",
    "# Taking kilometers input from the user\n",
    "kilometers = float(input(\"Enter value in kilometers: \"))\n",
    "\n",
    "# conversion factor\n",
    "conv_fac = 0.621371\n",
    "\n",
    "# calculate miles\n",
    "miles = kilometers * conv_fac\n",
    "print('%0.2f kilometers is equal to %0.2f miles' %(kilometers,miles))\n"
   ]
  },
  {
   "cell_type": "code",
   "execution_count": 2,
   "id": "9e26b67c",
   "metadata": {},
   "outputs": [
    {
     "name": "stdout",
     "output_type": "stream",
     "text": [
      "37.5 degree Celsius is equal to 99.5 degree Fahrenheit\n"
     ]
    }
   ],
   "source": [
    "#2.\n",
    "celsius = 37.5\n",
    "fahrenheit = (celsius * 1.8) + 32\n",
    "print('%0.1f degree Celsius is equal to %0.1f degree Fahrenheit' %(celsius,fahrenheit))\n"
   ]
  },
  {
   "cell_type": "code",
   "execution_count": 5,
   "id": "dcdca806",
   "metadata": {},
   "outputs": [
    {
     "name": "stdout",
     "output_type": "stream",
     "text": [
      "Year \t2022\n",
      "Month \t01\n",
      "    January 2022\n",
      "Mo Tu We Th Fr Sa Su\n",
      "                1  2\n",
      " 3  4  5  6  7  8  9\n",
      "10 11 12 13 14 15 16\n",
      "17 18 19 20 21 22 23\n",
      "24 25 26 27 28 29 30\n",
      "31\n",
      "\n"
     ]
    }
   ],
   "source": [
    "#3.\n",
    "import calendar\n",
    "yy = input('Year \\t')\n",
    "mm = input('Month \\t') \n",
    "print(calendar.month(int(yy), int(mm)))"
   ]
  },
  {
   "cell_type": "code",
   "execution_count": 12,
   "id": "da5bff38",
   "metadata": {},
   "outputs": [
    {
     "name": "stdout",
     "output_type": "stream",
     "text": [
      "a -12\n",
      "b 44\n",
      "c 15\n",
      "Distinct Real root exists\n",
      "The solution are 3.9806831211208547 and -0.3140164544541877\n"
     ]
    }
   ],
   "source": [
    "#4.\n",
    "import math\n",
    "\n",
    "a = int(input('a '))\n",
    "b = int(input('b '))\n",
    "c = int(input('c '))\n",
    "\n",
    "d = (b**2) - (4*a*c)\n",
    "\n",
    "if d < 0:\n",
    "    print('No Real root exist')\n",
    "elif d == 0:\n",
    "    print('Unique Real root exist')\n",
    "    sol1 = -1*b/(2*a)\n",
    "    print(f'The solution is {sol1}')\n",
    "else:\n",
    "    print('Distinct Real root exists')\n",
    "    sol1 = (-b-math.sqrt(d))/(2*a)\n",
    "    sol2 = (-b+math.sqrt(d))/(2*a)\n",
    "    print('The solution are {0} and {1}'.format(sol1,sol2))\n"
   ]
  },
  {
   "cell_type": "code",
   "execution_count": 13,
   "id": "9fbc0e7a",
   "metadata": {},
   "outputs": [
    {
     "name": "stdout",
     "output_type": "stream",
     "text": [
      "var1 = 4\n",
      "var2 = 5\n",
      "var1: 5 \t var2: 4\n"
     ]
    }
   ],
   "source": [
    "#5.\n",
    "var1 = input('var1 = ')\n",
    "var2 = input('var2 = ')\n",
    "var1, var2 = var2, var1\n",
    "print(f'var1: {var1} \\t var2: {var2}')"
   ]
  },
  {
   "cell_type": "code",
   "execution_count": null,
   "id": "eec417d9",
   "metadata": {},
   "outputs": [],
   "source": []
  }
 ],
 "metadata": {
  "kernelspec": {
   "display_name": "Python 3",
   "language": "python",
   "name": "python3"
  },
  "language_info": {
   "codemirror_mode": {
    "name": "ipython",
    "version": 3
   },
   "file_extension": ".py",
   "mimetype": "text/x-python",
   "name": "python",
   "nbconvert_exporter": "python",
   "pygments_lexer": "ipython3",
   "version": "3.8.8"
  }
 },
 "nbformat": 4,
 "nbformat_minor": 5
}
