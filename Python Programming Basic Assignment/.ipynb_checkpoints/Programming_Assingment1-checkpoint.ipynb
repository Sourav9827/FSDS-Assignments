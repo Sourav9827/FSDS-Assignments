{
 "cells": [
  {
   "cell_type": "markdown",
   "id": "71020288",
   "metadata": {},
   "source": [
    "1.\tWrite a Python program to print \"Hello Python\"?\n",
    "2.\tWrite a Python program to do arithmetical operations addition and division.?\n",
    "3.\tWrite a Python program to find the area of a triangle?\n",
    "4.\tWrite a Python program to swap two variables?\n",
    "5.\tWrite a Python program to generate a random number?"
   ]
  },
  {
   "cell_type": "code",
   "execution_count": 1,
   "id": "2a972022",
   "metadata": {},
   "outputs": [
    {
     "name": "stdout",
     "output_type": "stream",
     "text": [
      "Hello Python\n"
     ]
    }
   ],
   "source": [
    "#1.\n",
    "print('Hello Python')"
   ]
  },
  {
   "cell_type": "code",
   "execution_count": 5,
   "id": "34d8c800",
   "metadata": {},
   "outputs": [
    {
     "name": "stdout",
     "output_type": "stream",
     "text": [
      "58\n",
      "52\n",
      " 58 + 52 = 110\n",
      " 58 / 52 = 1.1153846153846154\n"
     ]
    }
   ],
   "source": [
    "#2.\n",
    "a=input()\n",
    "b=input()\n",
    "print(f' {a} + {b} = {int(a)+int(b)}')\n",
    "print(f' {a} / {b} = {int(a)/int(b)}')"
   ]
  },
  {
   "cell_type": "code",
   "execution_count": 7,
   "id": "e41fcb83",
   "metadata": {},
   "outputs": [
    {
     "name": "stdout",
     "output_type": "stream",
     "text": [
      "base \t98\n",
      "height \t74\n",
      "area:\t 3626.0\n"
     ]
    }
   ],
   "source": [
    "#3.\n",
    "b=input('base \\t')\n",
    "h=input('height \\t')\n",
    "print(f'area:\\t {1/2 * int(b) * int(h)}')"
   ]
  },
  {
   "cell_type": "code",
   "execution_count": 8,
   "id": "1c0853ac",
   "metadata": {},
   "outputs": [
    {
     "name": "stdout",
     "output_type": "stream",
     "text": [
      "var1 = 1\n",
      "var2 = 2\n",
      "var1: 2 \t var2: 1\n"
     ]
    }
   ],
   "source": [
    "#4.\n",
    "var1 = input('var1 = ')\n",
    "var2 = input('var2 = ')\n",
    "var1, var2 = var2, var1\n",
    "print(f'var1: {var1} \\t var2: {var2}')"
   ]
  },
  {
   "cell_type": "code",
   "execution_count": 11,
   "id": "00d4c65c",
   "metadata": {},
   "outputs": [
    {
     "name": "stdout",
     "output_type": "stream",
     "text": [
      "0.8045732526327463\n"
     ]
    }
   ],
   "source": [
    "#5.\n",
    "import random\n",
    "print(random.random())"
   ]
  },
  {
   "cell_type": "code",
   "execution_count": null,
   "id": "16c1a0f4",
   "metadata": {},
   "outputs": [],
   "source": []
  }
 ],
 "metadata": {
  "kernelspec": {
   "display_name": "Python 3",
   "language": "python",
   "name": "python3"
  },
  "language_info": {
   "codemirror_mode": {
    "name": "ipython",
    "version": 3
   },
   "file_extension": ".py",
   "mimetype": "text/x-python",
   "name": "python",
   "nbconvert_exporter": "python",
   "pygments_lexer": "ipython3",
   "version": "3.8.8"
  }
 },
 "nbformat": 4,
 "nbformat_minor": 5
}
